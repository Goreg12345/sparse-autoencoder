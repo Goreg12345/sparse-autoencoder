{
 "cells": [
  {
   "cell_type": "code",
   "execution_count": 1,
   "id": "initial_id",
   "metadata": {
    "collapsed": true,
    "ExecuteTime": {
     "end_time": "2024-03-03T00:11:34.746198300Z",
     "start_time": "2024-03-03T00:11:25.114393400Z"
    }
   },
   "outputs": [],
   "source": [
    "from SAETrainer import SAETrainer\n",
    "import wandb\n",
    "import os\n",
    "\n",
    "api = wandb.Api()\n",
    "\n",
    "def is_available(node):\n",
    "    component_name, layer, head = node.component_name, node.layer, node.head\n",
    "    project_name = \"sae-all-ioi-heads-low-l0\"\n",
    "    entity = \"mega-alignment\"    \n",
    "    runs = api.runs(path=f\"{entity}/{project_name}\")\n",
    "    for run in runs:\n",
    "        run_component = run.name.split('--')[0]\n",
    "        run_layer = int(run.name.split('--')[1].split('h')[0][1:])\n",
    "        run_head = int(run.name.split('--')[1].split('h')[1].split('-')[0])\n",
    "        if run_component == component_name and run_layer == layer and run_head == head:\n",
    "            return True\n",
    "    return False\n",
    "\n",
    "\n",
    "project_name = \"sae-all-ioi-heads-low-l0\"\n",
    "entity = \"mega-alignment\"\n",
    "    \n",
    "# run = api.run(\"mega-alignment/sae/byniiz7n\")\n",
    "runs = api.runs(path=f\"{entity}/{project_name}\")\n",
    "\n",
    "def load_sae(layer, head, component):\n",
    "    project_name = \"sae-all-ioi-heads-low-l0\"\n",
    "    entity = \"mega-alignment\"\n",
    "    \n",
    "    name_mover_sae = { }  # fill this if you wanna use different runs than the default ones\n",
    "    # e.g. ('z', 9, 9): 'z--l9h9-l1_0.03-819.2M',\n",
    "    if (component, layer, head) in name_mover_sae.keys():\n",
    "        project_name = 'sae'\n",
    "        run_name = name_mover_sae[(component, layer, head)]\n",
    "        version = 'v1'\n",
    "    else:\n",
    "        run_name = f\"{component}--l{layer}h{head}-l1_0.006-250.001408M\"\n",
    "        version = 'v25'\n",
    "        project_name = \"sae-all-ioi-heads-low-l0\"\n",
    "        run_name = f\"{component}--l{layer}h{head}-l1_0.006-250.001408M\"\n",
    "\n",
    "    runs = api.runs(path=f\"{entity}/{project_name}\")\n",
    "\n",
    "    selected_run = None\n",
    "    for run in runs:\n",
    "        if run.name == run_name or run.id == run_name:  # Adjust condition based on your criteria\n",
    "            selected_run = run\n",
    "            break\n",
    "    \n",
    "    if selected_run is None:\n",
    "        print(f\"Run {run_name} not found. Layer: {layer}, head: {head}, component: {component}\")\n",
    "        raise ValueError(\"Run not found.\")\n",
    "    \n",
    "    artifact_name = f'model-{selected_run.id}:{version}'\n",
    "    \n",
    "    # the runs were copied to a new project but the artifacts are still in the old project\n",
    "    project_name = 'serimats'\n",
    "    entity = 'georglange'\n",
    "    \n",
    "    artifact = api.artifact(type=\"model\", name=f\"{entity}/{project_name}/{artifact_name}\")    \n",
    "    if artifact is None:\n",
    "        raise ValueError(\"Artifact not found.\")\n",
    "    artifact_dir = artifact.download()\n",
    "    \n",
    "    cfg = selected_run.config\n",
    "    \n",
    "    encoder = SAETrainer.load_from_checkpoint(os.path.join(artifact_dir, 'model.ckpt'), cfg, ).sae\n",
    "    return encoder"
   ]
  },
  {
   "cell_type": "code",
   "outputs": [
    {
     "name": "stdout",
     "output_type": "stream",
     "text": [
      "could not find model\n"
     ]
    }
   ],
   "source": [
    "import sys\n",
    "sys.path.append('/tmp/pycharm_project_349/ioi_subspaces')\n",
    "from new_codebase import Circuit\n",
    "\n",
    "c = Circuit()\n",
    "circuit_nodes = list(c.nodes.keys())"
   ],
   "metadata": {
    "collapsed": false,
    "ExecuteTime": {
     "end_time": "2024-03-03T00:14:49.791494Z",
     "start_time": "2024-03-03T00:14:45.801170700Z"
    }
   },
   "id": "81a67a890612a03e",
   "execution_count": 2
  },
  {
   "cell_type": "code",
   "outputs": [
    {
     "data": {
      "text/plain": "Head(L9H9)"
     },
     "execution_count": 6,
     "metadata": {},
     "output_type": "execute_result"
    }
   ],
   "source": [
    "c.nm[0]"
   ],
   "metadata": {
    "collapsed": false,
    "ExecuteTime": {
     "end_time": "2024-03-03T00:16:15.469856700Z",
     "start_time": "2024-03-03T00:16:15.455974Z"
    }
   },
   "id": "101769972ba65a9e",
   "execution_count": 6
  },
  {
   "cell_type": "code",
   "outputs": [
    {
     "data": {
      "text/plain": "[]"
     },
     "execution_count": 7,
     "metadata": {},
     "output_type": "execute_result"
    }
   ],
   "source": [
    "c.prompts"
   ],
   "metadata": {
    "collapsed": false,
    "ExecuteTime": {
     "end_time": "2024-03-03T00:17:58.345658500Z",
     "start_time": "2024-03-03T00:17:58.340358200Z"
    }
   },
   "id": "4d09ff171038aa1a",
   "execution_count": 7
  },
  {
   "cell_type": "code",
   "outputs": [],
   "source": [],
   "metadata": {
    "collapsed": false
   },
   "id": "9464ecc8d7be1960"
  }
 ],
 "metadata": {
  "kernelspec": {
   "display_name": "Python 3",
   "language": "python",
   "name": "python3"
  },
  "language_info": {
   "codemirror_mode": {
    "name": "ipython",
    "version": 2
   },
   "file_extension": ".py",
   "mimetype": "text/x-python",
   "name": "python",
   "nbconvert_exporter": "python",
   "pygments_lexer": "ipython2",
   "version": "2.7.6"
  }
 },
 "nbformat": 4,
 "nbformat_minor": 5
}
